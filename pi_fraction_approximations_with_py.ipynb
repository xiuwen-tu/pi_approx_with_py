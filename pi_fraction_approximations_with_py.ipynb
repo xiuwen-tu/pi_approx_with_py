{
 "cells": [
  {
   "cell_type": "markdown",
   "metadata": {},
   "source": [
    "# A Brief Investigation of Fraction Approximations to Pi"
   ]
  },
  {
   "cell_type": "markdown",
   "metadata": {},
   "source": [
    "*Xiuwen Tu*<br>\n",
    "_2021.10_"
   ]
  },
  {
   "cell_type": "markdown",
   "metadata": {},
   "source": [
    "Pi is an important and interesting number. Because of the sustained interest, the number of decimal digits computed has been going through the rough, as shown in the next graph from Wikipedia: "
   ]
  },
  {
   "cell_type": "markdown",
   "metadata": {},
   "source": [
    "![Record approximations of pi](https://upload.wikimedia.org/wikipedia/commons/thumb/2/25/Record_pi_approximations.svg/1920px-Record_pi_approximations.svg.png)"
   ]
  },
  {
   "cell_type": "markdown",
   "metadata": {},
   "source": [
    "The above graph was created by Nageh in 2012. In recent years, there were at least these 3 new records: \n",
    "- 2019/3/14: 31.4E12 digits\n",
    "- 2020/1/29: 50E12 digits\n",
    "- 2021/8/5: 62.8E12 digits "
   ]
  },
  {
   "cell_type": "markdown",
   "metadata": {},
   "source": [
    "## Best fraction approximations of pi "
   ]
  },
  {
   "cell_type": "markdown",
   "metadata": {},
   "source": [
    "I got interested in pi and I was learning py. So I asked myself these two questions: "
   ]
  },
  {
   "cell_type": "markdown",
   "metadata": {},
   "source": [
    "#### What are good fraction approximations of pi? \n",
    "#### What python features are useful in this investigation? "
   ]
  },
  {
   "cell_type": "code",
   "execution_count": 1,
   "metadata": {},
   "outputs": [],
   "source": [
    "import math\n",
    "from decimal import *\n",
    "from fractions import Fraction\n",
    "\n",
    "import numpy as np\n",
    "import matplotlib.pyplot as plt"
   ]
  },
  {
   "cell_type": "code",
   "execution_count": 2,
   "metadata": {},
   "outputs": [],
   "source": [
    "# set the precision to a couple of digits more than the pi with 50 digits after the decimal  point\n",
    "DefaultContext.prec = 52\n",
    "setcontext(DefaultContext)"
   ]
  },
  {
   "cell_type": "code",
   "execution_count": 3,
   "metadata": {},
   "outputs": [
    {
     "data": {
      "text/plain": [
       "3.141592653589793"
      ]
     },
     "execution_count": 3,
     "metadata": {},
     "output_type": "execute_result"
    }
   ],
   "source": [
    "math.pi"
   ]
  },
  {
   "cell_type": "code",
   "execution_count": 4,
   "metadata": {},
   "outputs": [
    {
     "data": {
      "text/plain": [
       "3.141592653589793"
      ]
     },
     "execution_count": 4,
     "metadata": {},
     "output_type": "execute_result"
    }
   ],
   "source": [
    "np.pi"
   ]
  },
  {
   "cell_type": "code",
   "execution_count": 5,
   "metadata": {},
   "outputs": [
    {
     "data": {
      "text/plain": [
       "True"
      ]
     },
     "execution_count": 5,
     "metadata": {},
     "output_type": "execute_result"
    }
   ],
   "source": [
    "math.pi == np.pi"
   ]
  },
  {
   "cell_type": "code",
   "execution_count": 6,
   "metadata": {},
   "outputs": [
    {
     "data": {
      "text/plain": [
       "(884279719003555, 281474976710656)"
      ]
     },
     "execution_count": 6,
     "metadata": {},
     "output_type": "execute_result"
    }
   ],
   "source": [
    "math.pi.as_integer_ratio()"
   ]
  },
  {
   "cell_type": "markdown",
   "metadata": {},
   "source": [
    "### First, use Decimal to define pi_50 with 50 correct decimal digits"
   ]
  },
  {
   "cell_type": "code",
   "execution_count": 7,
   "metadata": {},
   "outputs": [
    {
     "data": {
      "text/plain": [
       "52"
      ]
     },
     "execution_count": 7,
     "metadata": {},
     "output_type": "execute_result"
    }
   ],
   "source": [
    "# First 50 digits of pi from https://en.wikipedia.org/wiki/Pi\n",
    "pi_50_str = '3.14159265358979323846264338327950288419716939937510'    \n",
    "len(pi_50_str)"
   ]
  },
  {
   "cell_type": "code",
   "execution_count": 8,
   "metadata": {},
   "outputs": [
    {
     "data": {
      "text/plain": [
       "52"
      ]
     },
     "execution_count": 8,
     "metadata": {},
     "output_type": "execute_result"
    }
   ],
   "source": [
    "getcontext().prec"
   ]
  },
  {
   "cell_type": "code",
   "execution_count": 9,
   "metadata": {},
   "outputs": [
    {
     "data": {
      "text/plain": [
       "Decimal('3.14159265358979323846264338327950288419716939937510')"
      ]
     },
     "execution_count": 9,
     "metadata": {},
     "output_type": "execute_result"
    }
   ],
   "source": [
    "pi_50 = Decimal(pi_50_str)\n",
    "pi_50"
   ]
  },
  {
   "cell_type": "code",
   "execution_count": 10,
   "metadata": {},
   "outputs": [],
   "source": [
    "def rel_pi_error(pi_approx): \n",
    "    return (Decimal(pi_approx) - pi_50) / pi_50"
   ]
  },
  {
   "cell_type": "code",
   "execution_count": 11,
   "metadata": {},
   "outputs": [
    {
     "data": {
      "text/plain": [
       "Decimal('-3.898171832519375446564363917609879351118886247457677E-17')"
      ]
     },
     "execution_count": 11,
     "metadata": {},
     "output_type": "execute_result"
    }
   ],
   "source": [
    "rel_pi_error(math.pi)"
   ]
  },
  {
   "cell_type": "code",
   "execution_count": 12,
   "metadata": {},
   "outputs": [
    {
     "data": {
      "text/plain": [
       "(31415926535897932384626433832795028841971693993751,\n",
       " 10000000000000000000000000000000000000000000000000)"
      ]
     },
     "execution_count": 12,
     "metadata": {},
     "output_type": "execute_result"
    }
   ],
   "source": [
    "# this is exact, but not much insight\n",
    "pi_50.as_integer_ratio()"
   ]
  },
  {
   "cell_type": "markdown",
   "metadata": {},
   "source": [
    "### Next, use Fraction to obtain fraction approximations of pi_50 "
   ]
  },
  {
   "cell_type": "code",
   "execution_count": 13,
   "metadata": {},
   "outputs": [
    {
     "data": {
      "text/plain": [
       "Fraction(31415926535897932384626433832795028841971693993751, 10000000000000000000000000000000000000000000000000)"
      ]
     },
     "execution_count": 13,
     "metadata": {},
     "output_type": "execute_result"
    }
   ],
   "source": [
    "Fraction(pi_50)"
   ]
  },
  {
   "cell_type": "code",
   "execution_count": 14,
   "metadata": {},
   "outputs": [
    {
     "data": {
      "text/plain": [
       "Fraction(3126535, 995207)"
      ]
     },
     "execution_count": 14,
     "metadata": {},
     "output_type": "execute_result"
    }
   ],
   "source": [
    "# this is a useful one \n",
    "Fraction(pi_50).limit_denominator()    #  the default max_denominator is 1000000)"
   ]
  },
  {
   "cell_type": "code",
   "execution_count": 15,
   "metadata": {},
   "outputs": [
    {
     "name": "stdout",
     "output_type": "stream",
     "text": [
      "max denom: 2**2 or 4,\t\t approx ratio: (13, 4),\t\t error: 3.5e-2\n",
      "max denom: 2**3 or 8,\t\t approx ratio: (22, 7),\t\t error: 4.0e-4\n",
      "max denom: 2**4 or 16,\t\t approx ratio: (22, 7),\t\t error: 4.0e-4\n",
      "max denom: 2**5 or 32,\t\t approx ratio: (22, 7),\t\t error: 4.0e-4\n",
      "max denom: 2**6 or 64,\t\t approx ratio: (201, 64),\t\t error: -3.1e-4\n",
      "max denom: 2**7 or 128,\t\t approx ratio: (355, 113),\t\t error: 8.5e-8\n",
      "max denom: 2**8 or 256,\t\t approx ratio: (355, 113),\t\t error: 8.5e-8\n",
      "max denom: 2**9 or 512,\t\t approx ratio: (355, 113),\t\t error: 8.5e-8\n",
      "max denom: 2**10 or 1024,\t\t approx ratio: (355, 113),\t\t error: 8.5e-8\n",
      "max denom: 2**11 or 2048,\t\t approx ratio: (355, 113),\t\t error: 8.5e-8\n",
      "max denom: 2**12 or 4096,\t\t approx ratio: (355, 113),\t\t error: 8.5e-8\n",
      "max denom: 2**13 or 8192,\t\t approx ratio: (355, 113),\t\t error: 8.5e-8\n",
      "max denom: 2**14 or 16384,\t\t approx ratio: (355, 113),\t\t error: 8.5e-8\n",
      "max denom: 2**15 or 32768,\t\t approx ratio: (102928, 32763),\t\t error: -1.1e-9\n",
      "max denom: 2**16 or 65536,\t\t approx ratio: (104348, 33215),\t\t error: 1.1e-10\n",
      "max denom: 2**17 or 131072,\t\t approx ratio: (312689, 99532),\t\t error: 9.3e-12\n",
      "max denom: 2**18 or 262144,\t\t approx ratio: (312689, 99532),\t\t error: 9.3e-12\n",
      "max denom: 2**19 or 524288,\t\t approx ratio: (1146408, 364913),\t\t error: 5.1e-13\n",
      "max denom: 2**20 or 1048576,\t\t approx ratio: (3126535, 995207),\t\t error: -3.6e-13\n",
      "max denom: 2**21 or 2097152,\t\t approx ratio: (5419351, 1725033),\t\t error: 7.0e-15\n",
      "max denom: 2**22 or 4194304,\t\t approx ratio: (5419351, 1725033),\t\t error: 7.0e-15\n",
      "max denom: 2**23 or 8388608,\t\t approx ratio: (5419351, 1725033),\t\t error: 7.0e-15\n",
      "max denom: 2**24 or 16777216,\t\t approx ratio: (47627751, 15160384),\t\t error: -5.1e-15\n",
      "max denom: 2**25 or 33554432,\t\t approx ratio: (80143857, 25510582),\t\t error: -1.8e-16\n",
      "max denom: 2**26 or 67108864,\t\t approx ratio: (165707065, 52746197),\t\t error: 5.2e-17\n",
      "max denom: 2**27 or 134217728,\t\t approx ratio: (411557987, 131002976),\t\t error: 6.2e-18\n",
      "max denom: 2**28 or 268435456,\t\t approx ratio: (657408909, 209259755),\t\t error: -5.4e-18\n",
      "max denom: 2**29 or 536870912,\t\t approx ratio: (1068966896, 340262731),\t\t error: -9.8e-19\n",
      "max denom: 2**30 or 1073741824,\t\t approx ratio: (2549491779, 811528438),\t\t error: 1.8e-19\n",
      "max denom: 2**31 or 2147483648,\t\t approx ratio: (6167950454, 1963319607),\t\t error: -2.4e-20\n",
      "max denom: 2**32 or 4294967296,\t\t approx ratio: (6167950454, 1963319607),\t\t error: -2.4e-20\n",
      "max denom: 2**33 or 8589934592,\t\t approx ratio: (21053343141, 6701487259),\t\t error: -8.3e-23\n",
      "max denom: 2**34 or 17179869184,\t\t approx ratio: (21053343141, 6701487259),\t\t error: -8.3e-23\n",
      "max denom: 2**35 or 34359738368,\t\t approx ratio: (21053343141, 6701487259),\t\t error: -8.3e-23\n",
      "max denom: 2**36 or 68719476736,\t\t approx ratio: (21053343141, 6701487259),\t\t error: -8.3e-23\n",
      "max denom: 2**37 or 137438953472,\t\t approx ratio: (21053343141, 6701487259),\t\t error: -8.3e-23\n",
      "max denom: 2**38 or 274877906944,\t\t approx ratio: (21053343141, 6701487259),\t\t error: -8.3e-23\n",
      "max denom: 2**39 or 549755813888,\t\t approx ratio: (1720206187108, 547558635631),\t\t error: 3.5e-24\n",
      "max denom: 2**40 or 1099511627776,\t\t approx ratio: (1783366216531, 567663097408),\t\t error: 3.9e-25\n",
      "max denom: 2**41 or 2199023255552,\t\t approx ratio: (5371151992734, 1709690779483),\t\t error: 6.3e-26\n",
      "max denom: 2**42 or 4398046511104,\t\t approx ratio: (8958937768937, 2851718461558),\t\t error: -2.5e-27\n",
      "max denom: 2**43 or 8796093022208,\t\t approx ratio: (8958937768937, 2851718461558),\t\t error: -2.5e-27\n",
      "max denom: 2**44 or 17592186044416,\t\t approx ratio: (8958937768937, 2851718461558),\t\t error: -2.5e-27\n",
      "max denom: 2**45 or 35184372088832,\t\t approx ratio: (103919467451041, 33078593856621),\t\t error: 9.2e-28\n",
      "max denom: 2**46 or 70368744177664,\t\t approx ratio: (139755218526789, 44485467702853),\t\t error: 5.1e-29\n",
      "max denom: 2**47 or 140737488355328,\t\t approx ratio: (428224593349304, 136308121570117),\t\t error: -1.2e-30\n",
      "max denom: 2**48 or 281474976710656,\t\t approx ratio: (428224593349304, 136308121570117),\t\t error: -1.2e-30\n",
      "max denom: 2**49 or 562949953421312,\t\t approx ratio: (428224593349304, 136308121570117),\t\t error: -1.2e-30\n",
      "max denom: 2**50 or 1125899906842624,\t\t approx ratio: (3137327371971917, 998642318693672),\t\t error: 1.1e-30\n",
      "max denom: 2**51 or 2251799813685248,\t\t approx ratio: (6134899525417045, 1952799169684491),\t\t error: -1.5e-32\n",
      "max denom: 2**52 or 4503599627370496,\t\t approx ratio: (6134899525417045, 1952799169684491),\t\t error: -1.5e-32\n",
      "max denom: 2**53 or 9007199254740992,\t\t approx ratio: (24111373508318876, 7674888557167847),\t\t error: 5.8e-33\n",
      "max denom: 2**54 or 18014398509481984,\t\t approx ratio: (36381172559152966, 11580486896536829),\t\t error: -1.4e-33\n",
      "max denom: 2**55 or 36028797018963968,\t\t approx ratio: (66627445592888887, 21208174623389167),\t\t error: -1.1e-34\n",
      "max denom: 2**56 or 72057594037927936,\t\t approx ratio: (66627445592888887, 21208174623389167),\t\t error: -1.1e-34\n",
      "max denom: 2**57 or 144115188075855872,\t\t approx ratio: (430010946591069243, 136876735467187340),\t\t error: 2.8e-36\n",
      "max denom: 2**58 or 288230376151711744,\t\t approx ratio: (430010946591069243, 136876735467187340),\t\t error: 2.8e-36\n",
      "max denom: 2**59 or 576460752303423488,\t\t approx ratio: (1786671231957165859, 568715116492138527),\t\t error: -1.3e-36\n",
      "max denom: 2**60 or 1152921504606846976,\t\t approx ratio: (2646693125139304345, 842468587426513207),\t\t error: -4.5e-39\n",
      "max denom: 2**61 or 2305843009213693952,\t\t approx ratio: (2646693125139304345, 842468587426513207),\t\t error: -4.5e-39\n",
      "max denom: 2**62 or 4611686018427387904,\t\t approx ratio: (2646693125139304345, 842468587426513207),\t\t error: -4.5e-39\n",
      "max denom: 2**63 or 9223372036854775808,\t\t approx ratio: (2646693125139304345, 842468587426513207),\t\t error: -4.5e-39\n",
      "max denom: 2**64 or 18446744073709551616,\t\t approx ratio: (2646693125139304345, 842468587426513207),\t\t error: -4.5e-39\n",
      "max denom: 2**65 or 36893488147419103232,\t\t approx ratio: (2646693125139304345, 842468587426513207),\t\t error: -4.5e-39\n",
      "max denom: 2**66 or 73786976294838206464,\t\t approx ratio: (230692312833710547258, 73431643841573836349),\t\t error: 6.5e-40\n",
      "max denom: 2**67 or 147573952589676412928,\t\t approx ratio: (265099323460521503743, 84383735478118508040),\t\t error: -1.3e-41\n",
      "max denom: 2**68 or 295147905179352825856,\t\t approx ratio: (792651277256425206884, 252308737846929010913),\t\t error: 2.0e-42\n",
      "max denom: 2**69 or 590295810358705651712,\t\t approx ratio: (1850401877973371917511, 589001211171976529866),\t\t error: -1.4e-43\n",
      "max denom: 2**70 or 1180591620717411303424,\t\t approx ratio: (1850401877973371917511, 589001211171976529866),\t\t error: -1.4e-43\n",
      "max denom: 2**71 or 2361183241434822606848,\t\t approx ratio: (6343856911176540959417, 2019312371362858600511),\t\t error: 1.3e-43\n",
      "max denom: 2**72 or 4722366482869645213696,\t\t approx ratio: (11895062545096656711950, 3786316004878788190109),\t\t error: 6.7e-45\n",
      "max denom: 2**73 or 9444732965739290427392,\t\t approx ratio: (25640526968166685341411, 8161633220929552910084),\t\t error: -3.6e-45\n",
      "max denom: 2**74 or 18889465931478580854784,\t\t approx ratio: (37535589513263342053361, 11947949225808341100193),\t\t error: -3.8e-46\n",
      "max denom: 2**75 or 37778931862957161709568,\t\t approx ratio: (37535589513263342053361, 11947949225808341100193),\t\t error: -3.8e-46\n",
      "max denom: 2**76 or 75557863725914323419136,\t\t approx ratio: (237108599624676709032116, 75474011359728834791267),\t\t error: -2.8e-47\n",
      "max denom: 2**77 or 151115727451828646838272,\t\t approx ratio: (436681609736090076010871, 139000073493649328482341),\t\t error: 2.5e-48\n",
      "max denom: 2**78 or 302231454903657293676544,\t\t approx ratio: (436681609736090076010871, 139000073493649328482341),\t\t error: 2.5e-48\n",
      "max denom: 2**79 or 604462909807314587353088,\t\t approx ratio: (1547153428832946937064729, 492474231840676820238290),\t\t error: -2.2e-48\n",
      "max denom: 2**80 or 1208925819614629174706176,\t\t approx ratio: (2857198258041217165097342, 909474452321624805685313),\t\t error: -4.1e-50\n",
      "max denom: 2**81 or 2417851639229258349412352,\t\t approx ratio: (2857198258041217165097342, 909474452321624805685313),\t\t error: -4.1e-50\n",
      "max denom: 2**82 or 4835703278458516698824704,\t\t approx ratio: (14722672899942175901497581, 4686372335101773356908906),\t\t error: 3.4e-50\n",
      "max denom: 2**83 or 9671406556917033397649408,\t\t approx ratio: (26151465932107044561886949, 8324270144388272579650158),\t\t error: 1.3e-51\n",
      "max denom: 2**84 or 19342813113834066795298816,\t\t approx ratio: (55160130122255306288871240, 17558014741098169964985629),\t\t error: -9.5e-52\n",
      "max denom: 2**85 or 38685626227668133590597632,\t\t approx ratio: (81311596054362350850758189, 25882284885486442544635787),\t\t error: -3.2e-52\n",
      "max denom: 2**86 or 77371252455336267181195264,\t\t approx ratio: (188774658040831746263403327, 60088839915361157668921732),\t\t error: 0.0e+0\n",
      "max denom: 2**87 or 154742504910672534362390528,\t\t approx ratio: (458860912136025843377564843, 146059964716208757882479251),\t\t error: 0.0e+0\n",
      "max denom: 2**88 or 309485009821345068724781056,\t\t approx ratio: (728947166231219940491726359, 232031089517056358096036770),\t\t error: 0.0e+0\n",
      "max denom: 2**89 or 618970019642690137449562112,\t\t approx ratio: (728947166231219940491726359, 232031089517056358096036770),\t\t error: 0.0e+0\n"
     ]
    }
   ],
   "source": [
    "data_list = []\n",
    "for i in range(2,90): \n",
    "    max_denom = 2**i\n",
    "    t = Fraction(pi_50).limit_denominator(max_denom).as_integer_ratio()\n",
    "    error = (Decimal(t[0])/Decimal(t[1]) - pi_50) / pi_50\n",
    "    data_list.append((max_denom, error))\n",
    "    print(f'max denom: 2**{i} or {2**i},\\t\\t approx ratio: {t},\\t\\t error: {error:.1e}')"
   ]
  },
  {
   "cell_type": "markdown",
   "metadata": {},
   "source": [
    "### A couple of observations in the above results: \n",
    "- The allowed max denominator exceeded 2**64 without problem. \n",
    "- The relative error exhausted the 50 decimal-digit precision we had in pi_50"
   ]
  },
  {
   "cell_type": "code",
   "execution_count": 16,
   "metadata": {},
   "outputs": [
    {
     "name": "stdout",
     "output_type": "stream",
     "text": [
      "max denom: 2**2 or ~4.0e+00,\t\t approx ratio: (13, 4),\t\t error: 3.5e-2\n",
      "max denom: 2**3 or ~8.0e+00,\t\t approx ratio: (22, 7),\t\t error: 4.0e-4\n",
      "max denom: 2**4 or ~1.6e+01,\t\t approx ratio: (22, 7),\t\t error: 4.0e-4\n",
      "max denom: 2**5 or ~3.2e+01,\t\t approx ratio: (22, 7),\t\t error: 4.0e-4\n",
      "max denom: 2**6 or ~6.4e+01,\t\t approx ratio: (201, 64),\t\t error: -3.1e-4\n",
      "max denom: 2**7 or ~1.3e+02,\t\t approx ratio: (355, 113),\t\t error: 8.5e-8\n",
      "max denom: 2**8 or ~2.6e+02,\t\t approx ratio: (355, 113),\t\t error: 8.5e-8\n",
      "max denom: 2**9 or ~5.1e+02,\t\t approx ratio: (355, 113),\t\t error: 8.5e-8\n",
      "max denom: 2**10 or ~1.0e+03,\t\t approx ratio: (355, 113),\t\t error: 8.5e-8\n",
      "max denom: 2**11 or ~2.0e+03,\t\t approx ratio: (355, 113),\t\t error: 8.5e-8\n",
      "max denom: 2**12 or ~4.1e+03,\t\t approx ratio: (355, 113),\t\t error: 8.5e-8\n",
      "max denom: 2**13 or ~8.2e+03,\t\t approx ratio: (355, 113),\t\t error: 8.5e-8\n",
      "max denom: 2**14 or ~1.6e+04,\t\t approx ratio: (355, 113),\t\t error: 8.5e-8\n",
      "max denom: 2**15 or ~3.3e+04,\t\t approx ratio: (102928, 32763),\t\t error: -1.1e-9\n",
      "max denom: 2**16 or ~6.6e+04,\t\t approx ratio: (104348, 33215),\t\t error: 1.1e-10\n",
      "max denom: 2**17 or ~1.3e+05,\t\t approx ratio: (312689, 99532),\t\t error: 9.3e-12\n",
      "max denom: 2**18 or ~2.6e+05,\t\t approx ratio: (312689, 99532),\t\t error: 9.3e-12\n",
      "max denom: 2**19 or ~5.2e+05,\t\t approx ratio: (1146408, 364913),\t\t error: 5.1e-13\n",
      "max denom: 2**20 or ~1.0e+06,\t\t approx ratio: (3126535, 995207),\t\t error: -3.6e-13\n",
      "max denom: 2**21 or ~2.1e+06,\t\t approx ratio: (5419351, 1725033),\t\t error: 7.0e-15\n",
      "max denom: 2**22 or ~4.2e+06,\t\t approx ratio: (5419351, 1725033),\t\t error: 7.0e-15\n",
      "max denom: 2**23 or ~8.4e+06,\t\t approx ratio: (5419351, 1725033),\t\t error: 7.0e-15\n",
      "max denom: 2**24 or ~1.7e+07,\t\t approx ratio: (47627751, 15160384),\t\t error: -5.1e-15\n",
      "max denom: 2**25 or ~3.4e+07,\t\t approx ratio: (80143857, 25510582),\t\t error: -1.8e-16\n",
      "max denom: 2**26 or ~6.7e+07,\t\t approx ratio: (165707065, 52746197),\t\t error: 5.2e-17\n",
      "max denom: 2**27 or ~1.3e+08,\t\t approx ratio: (411557987, 131002976),\t\t error: 6.2e-18\n",
      "max denom: 2**28 or ~2.7e+08,\t\t approx ratio: (657408909, 209259755),\t\t error: -5.4e-18\n",
      "max denom: 2**29 or ~5.4e+08,\t\t approx ratio: (1068966896, 340262731),\t\t error: -9.8e-19\n",
      "max denom: 2**30 or ~1.1e+09,\t\t approx ratio: (2549491779, 811528438),\t\t error: 1.8e-19\n",
      "max denom: 2**31 or ~2.1e+09,\t\t approx ratio: (6167950454, 1963319607),\t\t error: -2.4e-20\n",
      "max denom: 2**32 or ~4.3e+09,\t\t approx ratio: (6167950454, 1963319607),\t\t error: -2.4e-20\n",
      "max denom: 2**33 or ~8.6e+09,\t\t approx ratio: (21053343141, 6701487259),\t\t error: -8.3e-23\n",
      "max denom: 2**34 or ~1.7e+10,\t\t approx ratio: (21053343141, 6701487259),\t\t error: -8.3e-23\n",
      "max denom: 2**35 or ~3.4e+10,\t\t approx ratio: (21053343141, 6701487259),\t\t error: -8.3e-23\n",
      "max denom: 2**36 or ~6.9e+10,\t\t approx ratio: (21053343141, 6701487259),\t\t error: -8.3e-23\n",
      "max denom: 2**37 or ~1.4e+11,\t\t approx ratio: (21053343141, 6701487259),\t\t error: -8.3e-23\n",
      "max denom: 2**38 or ~2.7e+11,\t\t approx ratio: (21053343141, 6701487259),\t\t error: -8.3e-23\n",
      "max denom: 2**39 or ~5.5e+11,\t\t approx ratio: (1720206187108, 547558635631),\t\t error: 3.5e-24\n",
      "max denom: 2**40 or ~1.1e+12,\t\t approx ratio: (1783366216531, 567663097408),\t\t error: 3.9e-25\n",
      "max denom: 2**41 or ~2.2e+12,\t\t approx ratio: (5371151992734, 1709690779483),\t\t error: 6.3e-26\n",
      "max denom: 2**42 or ~4.4e+12,\t\t approx ratio: (8958937768937, 2851718461558),\t\t error: -2.5e-27\n",
      "max denom: 2**43 or ~8.8e+12,\t\t approx ratio: (8958937768937, 2851718461558),\t\t error: -2.5e-27\n",
      "max denom: 2**44 or ~1.8e+13,\t\t approx ratio: (8958937768937, 2851718461558),\t\t error: -2.5e-27\n",
      "max denom: 2**45 or ~3.5e+13,\t\t approx ratio: (103919467451041, 33078593856621),\t\t error: 9.2e-28\n",
      "max denom: 2**46 or ~7.0e+13,\t\t approx ratio: (139755218526789, 44485467702853),\t\t error: 5.1e-29\n",
      "max denom: 2**47 or ~1.4e+14,\t\t approx ratio: (428224593349304, 136308121570117),\t\t error: -1.2e-30\n",
      "max denom: 2**48 or ~2.8e+14,\t\t approx ratio: (428224593349304, 136308121570117),\t\t error: -1.2e-30\n",
      "max denom: 2**49 or ~5.6e+14,\t\t approx ratio: (428224593349304, 136308121570117),\t\t error: -1.2e-30\n",
      "max denom: 2**50 or ~1.1e+15,\t\t approx ratio: (3137327371971917, 998642318693672),\t\t error: 1.1e-30\n",
      "max denom: 2**51 or ~2.3e+15,\t\t approx ratio: (6134899525417045, 1952799169684491),\t\t error: -1.5e-32\n",
      "max denom: 2**52 or ~4.5e+15,\t\t approx ratio: (6134899525417045, 1952799169684491),\t\t error: -1.5e-32\n",
      "max denom: 2**53 or ~9.0e+15,\t\t approx ratio: (24111373508318876, 7674888557167847),\t\t error: 5.8e-33\n",
      "max denom: 2**54 or ~1.8e+16,\t\t approx ratio: (36381172559152966, 11580486896536829),\t\t error: -1.4e-33\n",
      "max denom: 2**55 or ~3.6e+16,\t\t approx ratio: (66627445592888887, 21208174623389167),\t\t error: -1.1e-34\n",
      "max denom: 2**56 or ~7.2e+16,\t\t approx ratio: (66627445592888887, 21208174623389167),\t\t error: -1.1e-34\n",
      "max denom: 2**57 or ~1.4e+17,\t\t approx ratio: (430010946591069243, 136876735467187340),\t\t error: 2.8e-36\n",
      "max denom: 2**58 or ~2.9e+17,\t\t approx ratio: (430010946591069243, 136876735467187340),\t\t error: 2.8e-36\n",
      "max denom: 2**59 or ~5.8e+17,\t\t approx ratio: (1786671231957165859, 568715116492138527),\t\t error: -1.3e-36\n",
      "max denom: 2**60 or ~1.2e+18,\t\t approx ratio: (2646693125139304345, 842468587426513207),\t\t error: -4.5e-39\n",
      "max denom: 2**61 or ~2.3e+18,\t\t approx ratio: (2646693125139304345, 842468587426513207),\t\t error: -4.5e-39\n",
      "max denom: 2**62 or ~4.6e+18,\t\t approx ratio: (2646693125139304345, 842468587426513207),\t\t error: -4.5e-39\n",
      "max denom: 2**63 or ~9.2e+18,\t\t approx ratio: (2646693125139304345, 842468587426513207),\t\t error: -4.5e-39\n",
      "max denom: 2**64 or ~1.8e+19,\t\t approx ratio: (2646693125139304345, 842468587426513207),\t\t error: -4.5e-39\n",
      "max denom: 2**65 or ~3.7e+19,\t\t approx ratio: (2646693125139304345, 842468587426513207),\t\t error: -4.5e-39\n",
      "max denom: 2**66 or ~7.4e+19,\t\t approx ratio: (230692312833710547258, 73431643841573836349),\t\t error: 6.5e-40\n",
      "max denom: 2**67 or ~1.5e+20,\t\t approx ratio: (265099323460521503743, 84383735478118508040),\t\t error: -1.3e-41\n",
      "max denom: 2**68 or ~3.0e+20,\t\t approx ratio: (792651277256425206884, 252308737846929010913),\t\t error: 2.0e-42\n",
      "max denom: 2**69 or ~5.9e+20,\t\t approx ratio: (1850401877973371917511, 589001211171976529866),\t\t error: -1.4e-43\n",
      "max denom: 2**70 or ~1.2e+21,\t\t approx ratio: (1850401877973371917511, 589001211171976529866),\t\t error: -1.4e-43\n",
      "max denom: 2**71 or ~2.4e+21,\t\t approx ratio: (6343856911176540959417, 2019312371362858600511),\t\t error: 1.3e-43\n",
      "max denom: 2**72 or ~4.7e+21,\t\t approx ratio: (11895062545096656711950, 3786316004878788190109),\t\t error: 6.7e-45\n",
      "max denom: 2**73 or ~9.4e+21,\t\t approx ratio: (25640526968166685341411, 8161633220929552910084),\t\t error: -3.6e-45\n",
      "max denom: 2**74 or ~1.9e+22,\t\t approx ratio: (37535589513263342053361, 11947949225808341100193),\t\t error: -3.8e-46\n",
      "max denom: 2**75 or ~3.8e+22,\t\t approx ratio: (37535589513263342053361, 11947949225808341100193),\t\t error: -3.8e-46\n",
      "max denom: 2**76 or ~7.6e+22,\t\t approx ratio: (237108599624676709032116, 75474011359728834791267),\t\t error: -2.8e-47\n",
      "max denom: 2**77 or ~1.5e+23,\t\t approx ratio: (436681609736090076010871, 139000073493649328482341),\t\t error: 2.5e-48\n",
      "max denom: 2**78 or ~3.0e+23,\t\t approx ratio: (436681609736090076010871, 139000073493649328482341),\t\t error: 2.5e-48\n",
      "max denom: 2**79 or ~6.0e+23,\t\t approx ratio: (1547153428832946937064729, 492474231840676820238290),\t\t error: -2.2e-48\n",
      "max denom: 2**80 or ~1.2e+24,\t\t approx ratio: (2857198258041217165097342, 909474452321624805685313),\t\t error: -4.1e-50\n",
      "max denom: 2**81 or ~2.4e+24,\t\t approx ratio: (2857198258041217165097342, 909474452321624805685313),\t\t error: -4.1e-50\n",
      "max denom: 2**82 or ~4.8e+24,\t\t approx ratio: (14722672899942175901497581, 4686372335101773356908906),\t\t error: 3.4e-50\n",
      "max denom: 2**83 or ~9.7e+24,\t\t approx ratio: (26151465932107044561886949, 8324270144388272579650158),\t\t error: 1.3e-51\n",
      "max denom: 2**84 or ~1.9e+25,\t\t approx ratio: (55160130122255306288871240, 17558014741098169964985629),\t\t error: -9.5e-52\n",
      "max denom: 2**85 or ~3.9e+25,\t\t approx ratio: (81311596054362350850758189, 25882284885486442544635787),\t\t error: -3.2e-52\n",
      "max denom: 2**86 or ~7.7e+25,\t\t approx ratio: (188774658040831746263403327, 60088839915361157668921732),\t\t error: 0.0e+0\n",
      "max denom: 2**87 or ~1.5e+26,\t\t approx ratio: (458860912136025843377564843, 146059964716208757882479251),\t\t error: 0.0e+0\n",
      "max denom: 2**88 or ~3.1e+26,\t\t approx ratio: (728947166231219940491726359, 232031089517056358096036770),\t\t error: 0.0e+0\n",
      "max denom: 2**89 or ~6.2e+26,\t\t approx ratio: (728947166231219940491726359, 232031089517056358096036770),\t\t error: 0.0e+0\n"
     ]
    }
   ],
   "source": [
    "# print the max_denom in scientific notation to have a little tidier output \n",
    "data_list = []\n",
    "for i in range(2,90): \n",
    "    max_denom = 2**i\n",
    "    t = Fraction(pi_50).limit_denominator(max_denom).as_integer_ratio()\n",
    "    error = (Decimal(t[0])/Decimal(t[1]) - pi_50) / pi_50\n",
    "    data_list.append((max_denom, error))\n",
    "    print(f'max denom: 2**{i} or ~{2**i:.1e},\\t\\t approx ratio: {t},\\t\\t error: {error:.1e}')"
   ]
  },
  {
   "cell_type": "code",
   "execution_count": 17,
   "metadata": {},
   "outputs": [
    {
     "data": {
      "text/plain": [
       "88"
      ]
     },
     "execution_count": 17,
     "metadata": {},
     "output_type": "execute_result"
    }
   ],
   "source": [
    "len(data_list)"
   ]
  },
  {
   "cell_type": "code",
   "execution_count": 18,
   "metadata": {},
   "outputs": [
    {
     "data": {
      "text/plain": [
       "[(4, Decimal('0.03450713009731968249774446192134335322398769731296883')),\n",
       " (8, Decimal('0.0004024994347706819758407983415188470737463446542995769')),\n",
       " (16, Decimal('0.0004024994347706819758407983415188470737463446542995769')),\n",
       " (32, Decimal('0.0004024994347706819758407983415188470737463446542995769')),\n",
       " (64, Decimal('-0.0003080137040324222016988613163941634710503501927560790')),\n",
       " (128, Decimal('8.491367865837086258402199289419881724314800266685508E-8')),\n",
       " (256, Decimal('8.491367865837086258402199289419881724314800266685508E-8')),\n",
       " (512, Decimal('8.491367865837086258402199289419881724314800266685508E-8')),\n",
       " (1024, Decimal('8.491367865837086258402199289419881724314800266685508E-8')),\n",
       " (2048, Decimal('8.491367865837086258402199289419881724314800266685508E-8')),\n",
       " (4096, Decimal('8.491367865837086258402199289419881724314800266685508E-8')),\n",
       " (8192, Decimal('8.491367865837086258402199289419881724314800266685508E-8')),\n",
       " (16384, Decimal('8.491367865837086258402199289419881724314800266685508E-8')),\n",
       " (32768, Decimal('-1.064456666360243689747205185393104269036795819350785E-9')),\n",
       " (65536, Decimal('1.055604092615675411949497907314041917040603606136267E-10')),\n",
       " (131072,\n",
       "  Decimal('9.276627541624705324682380544812767088728769634904582E-12')),\n",
       " (262144,\n",
       "  Decimal('9.276627541624705324682380544812767088728769634904582E-12')),\n",
       " (524288,\n",
       "  Decimal('5.127144724057372598808195443890108273781586459601448E-13')),\n",
       " (1048576,\n",
       "  Decimal('-3.637763436812700958007913862959394474941118644854178E-13')),\n",
       " (2097152,\n",
       "  Decimal('7.048902178673586649160225701091634989085341792652071E-15')),\n",
       " (4194304,\n",
       "  Decimal('7.048902178673586649160225701091634989085341792652071E-15')),\n",
       " (8388608,\n",
       "  Decimal('7.048902178673586649160225701091634989085341792652071E-15')),\n",
       " (16777216,\n",
       "  Decimal('-5.122553387904970080668286357729873506664230171148349E-15')),\n",
       " (33554432,\n",
       "  Decimal('-1.843291222927529737454570058087664308893445890995401E-16')),\n",
       " (67108864,\n",
       "  Decimal('5.222940515520441621992492602856622392393695355494318E-17')),\n",
       " (134217728,\n",
       "  Decimal('6.163690493421711915422309741019555244036504683645571E-18')),\n",
       " (268435456,\n",
       "  Decimal('-5.447673863265883807119002541976978123993073128911123E-18')),\n",
       " (536870912,\n",
       "  Decimal('-9.772363232039352008880656838997999508011569377222338E-19')),\n",
       " (1073741824,\n",
       "  Decimal('1.755053683646923056226517142028899940442645476557096E-19')),\n",
       " (2147483648,\n",
       "  Decimal('-2.427618259228383447609940199662134050594048365812042E-20')),\n",
       " (4294967296,\n",
       "  Decimal('-2.427618259228383447609940199662134050594048365812042E-20')),\n",
       " (8589934592,\n",
       "  Decimal('-8.328275925107690720096964340594415666934484118710819E-23')),\n",
       " (17179869184,\n",
       "  Decimal('-8.328275925107690720096964340594415666934484118710819E-23')),\n",
       " (34359738368,\n",
       "  Decimal('-8.328275925107690720096964340594415666934484118710819E-23')),\n",
       " (68719476736,\n",
       "  Decimal('-8.328275925107690720096964340594415666934484118710819E-23')),\n",
       " (137438953472,\n",
       "  Decimal('-8.328275925107690720096964340594415666934484118710819E-23')),\n",
       " (274877906944,\n",
       "  Decimal('-8.328275925107690720096964340594415666934484118710819E-23')),\n",
       " (549755813888,\n",
       "  Decimal('3.463009149860938199467088238444157285808881102136572E-24')),\n",
       " (1099511627776,\n",
       "  Decimal('3.908048915670614945984012487817989629976203414338781E-25')),\n",
       " (2199023255552,\n",
       "  Decimal('6.282901970407388432439094156776815305676769822066858E-26')),\n",
       " (4398046511104,\n",
       "  Decimal('-2.457859700955427064166324127979218296655759983403532E-27')),\n",
       " (8796093022208,\n",
       "  Decimal('-2.457859700955427064166324127979218296655759983403532E-27')),\n",
       " (17592186044416,\n",
       "  Decimal('-2.457859700955427064166324127979218296655759983403532E-27')),\n",
       " (35184372088832,\n",
       "  Decimal('9.165393507036351162331778601558879741418739138328557E-28')),\n",
       " (70368744177664,\n",
       "  Decimal('5.128275620791752236430541951992844783339876753821753E-29')),\n",
       " (140737488355328,\n",
       "  Decimal('-1.211312269806942069446910052749931848635968700391491E-30')),\n",
       " (281474976710656,\n",
       "  Decimal('-1.211312269806942069446910052749931848635968700391491E-30')),\n",
       " (562949953421312,\n",
       "  Decimal('-1.211312269806942069446910052749931848635968700391491E-30')),\n",
       " (1125899906842624,\n",
       "  Decimal('1.127085717284051806233342298929672679512254546429171E-30')),\n",
       " (2251799813685248,\n",
       "  Decimal('-1.547850251050178802215927981674657814788121220721038E-32')),\n",
       " (4503599627370496,\n",
       "  Decimal('-1.547850251050178802215927981674657814788121220721038E-32')),\n",
       " (9007199254740992,\n",
       "  Decimal('5.759832524091131062883164438464491517241522381511642E-33')),\n",
       " (18014398509481984,\n",
       "  Decimal('-1.402941095287004543755007831676575426371635213164501E-33')),\n",
       " (36028797018963968,\n",
       "  Decimal('-1.068962855577843896750565928628778761391291529136349E-34')),\n",
       " (72057594037927936,\n",
       "  Decimal('-1.068962855577843896750565928628778761391291529136349E-34')),\n",
       " (144115188075855872,\n",
       "  Decimal('2.755876185887389092873397103978382173971393568099599E-36')),\n",
       " (288230376151711744,\n",
       "  Decimal('2.755876185887389092873397103978382173971393568099599E-36')),\n",
       " (576460752303423488,\n",
       "  Decimal('-1.333204843707593429266787932823611455426385262687896E-36')),\n",
       " (1152921504606846976,\n",
       "  Decimal('-4.490466115234944639300700718305963268160145918082259E-39')),\n",
       " (2305843009213693952,\n",
       "  Decimal('-4.490466115234944639300700718305963268160145918082259E-39')),\n",
       " (4611686018427387904,\n",
       "  Decimal('-4.490466115234944639300700718305963268160145918082259E-39')),\n",
       " (9223372036854775808,\n",
       "  Decimal('-4.490466115234944639300700718305963268160145918082259E-39')),\n",
       " (18446744073709551616,\n",
       "  Decimal('-4.490466115234944639300700718305963268160145918082259E-39')),\n",
       " (36893488147419103232,\n",
       "  Decimal('-4.490466115234944639300700718305963268160145918082259E-39')),\n",
       " (73786976294838206464,\n",
       "  Decimal('6.548630133592199429559400528063053804459363776755545E-40')),\n",
       " (147573952589676412928,\n",
       "  Decimal('-1.294477918820281146150427923985205261212195300944017E-41')),\n",
       " (295147905179352825856,\n",
       "  Decimal('2.005836899573679694104050180344589412025667295745617E-42')),\n",
       " (590295810358705651712,\n",
       "  Decimal('-1.360752207997170137416971010628052642659242447459911E-43')),\n",
       " (1180591620717411303424,\n",
       "  Decimal('-1.360752207997170137416971010628052642659242447459911E-43')),\n",
       " (2361183241434822606848,\n",
       "  Decimal('1.315520920663457719111409290037730062418454414681654E-43')),\n",
       " (4722366482869645213696,\n",
       "  Decimal('6.655376207385949763824653115365424921649241696462142E-45')),\n",
       " (9444732965739290427392,\n",
       "  Decimal('-3.645073777122230917235284176413836993993206032549169E-45')),\n",
       " (18889465931478580854784,\n",
       "  Decimal('-3.808517309310680464721796281674187128027046227903749E-46')),\n",
       " (37778931862957161709568,\n",
       "  Decimal('-3.808517309310680464721796281674187128027046227903749E-46')),\n",
       " (75557863725914323419136,\n",
       "  Decimal('-2.786421081675666780507309375620632444754505693765620E-47')),\n",
       " (151115727451828646838272,\n",
       "  Decimal('2.477087534282259005906906893129813530704329926304469E-48')),\n",
       " (302231454903657293676544,\n",
       "  Decimal('2.477087534282259005906906893129813530704329926304469E-48')),\n",
       " (604462909807314587353088,\n",
       "  Decimal('-2.172783283090555123916801137561566070494443083648715E-48')),\n",
       " (1208925819614629174706176,\n",
       "  Decimal('-4.074366543152520595683424342336367668082166930955693E-50')),\n",
       " (2417851639229258349412352,\n",
       "  Decimal('-4.074366543152520595683424342336367668082166930955693E-50')),\n",
       " (4835703278458516698824704,\n",
       "  Decimal('3.405915782166560185454112536171807347537436418845774E-50')),\n",
       " (9671406556917033397649408,\n",
       "  Decimal('1.273239544735162686151070106980114896275677165923654E-51')),\n",
       " (19342813113834066795298816,\n",
       "  Decimal('-9.549296585513720146133025802350861722067578744427405E-52')),\n",
       " (38685626227668133590597632,\n",
       "  Decimal('-3.183098861837906715377675267450287240689192914809135E-52')),\n",
       " (77371252455336267181195264, Decimal('0.0')),\n",
       " (154742504910672534362390528, Decimal('0.0')),\n",
       " (309485009821345068724781056, Decimal('0.0')),\n",
       " (618970019642690137449562112, Decimal('0.0'))]"
      ]
     },
     "execution_count": 18,
     "metadata": {},
     "output_type": "execute_result"
    }
   ],
   "source": [
    "data_list"
   ]
  },
  {
   "cell_type": "code",
   "execution_count": 19,
   "metadata": {},
   "outputs": [
    {
     "data": {
      "text/plain": [
       "[(4, Decimal('0.03450713009731968249774446192134335322398769731296883')),\n",
       " (8, Decimal('0.0004024994347706819758407983415188470737463446542995769')),\n",
       " (16, Decimal('0.0004024994347706819758407983415188470737463446542995769')),\n",
       " (32, Decimal('0.0004024994347706819758407983415188470737463446542995769')),\n",
       " (64, Decimal('-0.0003080137040324222016988613163941634710503501927560790')),\n",
       " (128, Decimal('8.491367865837086258402199289419881724314800266685508E-8')),\n",
       " (256, Decimal('8.491367865837086258402199289419881724314800266685508E-8')),\n",
       " (512, Decimal('8.491367865837086258402199289419881724314800266685508E-8')),\n",
       " (1024, Decimal('8.491367865837086258402199289419881724314800266685508E-8')),\n",
       " (2048, Decimal('8.491367865837086258402199289419881724314800266685508E-8')),\n",
       " (4096, Decimal('8.491367865837086258402199289419881724314800266685508E-8')),\n",
       " (8192, Decimal('8.491367865837086258402199289419881724314800266685508E-8')),\n",
       " (16384, Decimal('8.491367865837086258402199289419881724314800266685508E-8')),\n",
       " (32768, Decimal('-1.064456666360243689747205185393104269036795819350785E-9')),\n",
       " (65536, Decimal('1.055604092615675411949497907314041917040603606136267E-10')),\n",
       " (131072,\n",
       "  Decimal('9.276627541624705324682380544812767088728769634904582E-12')),\n",
       " (262144,\n",
       "  Decimal('9.276627541624705324682380544812767088728769634904582E-12')),\n",
       " (524288,\n",
       "  Decimal('5.127144724057372598808195443890108273781586459601448E-13')),\n",
       " (1048576,\n",
       "  Decimal('-3.637763436812700958007913862959394474941118644854178E-13')),\n",
       " (2097152,\n",
       "  Decimal('7.048902178673586649160225701091634989085341792652071E-15')),\n",
       " (4194304,\n",
       "  Decimal('7.048902178673586649160225701091634989085341792652071E-15')),\n",
       " (8388608,\n",
       "  Decimal('7.048902178673586649160225701091634989085341792652071E-15')),\n",
       " (16777216,\n",
       "  Decimal('-5.122553387904970080668286357729873506664230171148349E-15')),\n",
       " (33554432,\n",
       "  Decimal('-1.843291222927529737454570058087664308893445890995401E-16')),\n",
       " (67108864,\n",
       "  Decimal('5.222940515520441621992492602856622392393695355494318E-17')),\n",
       " (134217728,\n",
       "  Decimal('6.163690493421711915422309741019555244036504683645571E-18')),\n",
       " (268435456,\n",
       "  Decimal('-5.447673863265883807119002541976978123993073128911123E-18')),\n",
       " (536870912,\n",
       "  Decimal('-9.772363232039352008880656838997999508011569377222338E-19')),\n",
       " (1073741824,\n",
       "  Decimal('1.755053683646923056226517142028899940442645476557096E-19')),\n",
       " (2147483648,\n",
       "  Decimal('-2.427618259228383447609940199662134050594048365812042E-20')),\n",
       " (4294967296,\n",
       "  Decimal('-2.427618259228383447609940199662134050594048365812042E-20')),\n",
       " (8589934592,\n",
       "  Decimal('-8.328275925107690720096964340594415666934484118710819E-23')),\n",
       " (17179869184,\n",
       "  Decimal('-8.328275925107690720096964340594415666934484118710819E-23')),\n",
       " (34359738368,\n",
       "  Decimal('-8.328275925107690720096964340594415666934484118710819E-23')),\n",
       " (68719476736,\n",
       "  Decimal('-8.328275925107690720096964340594415666934484118710819E-23')),\n",
       " (137438953472,\n",
       "  Decimal('-8.328275925107690720096964340594415666934484118710819E-23')),\n",
       " (274877906944,\n",
       "  Decimal('-8.328275925107690720096964340594415666934484118710819E-23')),\n",
       " (549755813888,\n",
       "  Decimal('3.463009149860938199467088238444157285808881102136572E-24')),\n",
       " (1099511627776,\n",
       "  Decimal('3.908048915670614945984012487817989629976203414338781E-25')),\n",
       " (2199023255552,\n",
       "  Decimal('6.282901970407388432439094156776815305676769822066858E-26')),\n",
       " (4398046511104,\n",
       "  Decimal('-2.457859700955427064166324127979218296655759983403532E-27')),\n",
       " (8796093022208,\n",
       "  Decimal('-2.457859700955427064166324127979218296655759983403532E-27')),\n",
       " (17592186044416,\n",
       "  Decimal('-2.457859700955427064166324127979218296655759983403532E-27')),\n",
       " (35184372088832,\n",
       "  Decimal('9.165393507036351162331778601558879741418739138328557E-28')),\n",
       " (70368744177664,\n",
       "  Decimal('5.128275620791752236430541951992844783339876753821753E-29')),\n",
       " (140737488355328,\n",
       "  Decimal('-1.211312269806942069446910052749931848635968700391491E-30')),\n",
       " (281474976710656,\n",
       "  Decimal('-1.211312269806942069446910052749931848635968700391491E-30')),\n",
       " (562949953421312,\n",
       "  Decimal('-1.211312269806942069446910052749931848635968700391491E-30')),\n",
       " (1125899906842624,\n",
       "  Decimal('1.127085717284051806233342298929672679512254546429171E-30')),\n",
       " (2251799813685248,\n",
       "  Decimal('-1.547850251050178802215927981674657814788121220721038E-32')),\n",
       " (4503599627370496,\n",
       "  Decimal('-1.547850251050178802215927981674657814788121220721038E-32')),\n",
       " (9007199254740992,\n",
       "  Decimal('5.759832524091131062883164438464491517241522381511642E-33')),\n",
       " (18014398509481984,\n",
       "  Decimal('-1.402941095287004543755007831676575426371635213164501E-33')),\n",
       " (36028797018963968,\n",
       "  Decimal('-1.068962855577843896750565928628778761391291529136349E-34')),\n",
       " (72057594037927936,\n",
       "  Decimal('-1.068962855577843896750565928628778761391291529136349E-34')),\n",
       " (144115188075855872,\n",
       "  Decimal('2.755876185887389092873397103978382173971393568099599E-36')),\n",
       " (288230376151711744,\n",
       "  Decimal('2.755876185887389092873397103978382173971393568099599E-36')),\n",
       " (576460752303423488,\n",
       "  Decimal('-1.333204843707593429266787932823611455426385262687896E-36')),\n",
       " (1152921504606846976,\n",
       "  Decimal('-4.490466115234944639300700718305963268160145918082259E-39')),\n",
       " (2305843009213693952,\n",
       "  Decimal('-4.490466115234944639300700718305963268160145918082259E-39')),\n",
       " (4611686018427387904,\n",
       "  Decimal('-4.490466115234944639300700718305963268160145918082259E-39')),\n",
       " (9223372036854775808,\n",
       "  Decimal('-4.490466115234944639300700718305963268160145918082259E-39')),\n",
       " (18446744073709551616,\n",
       "  Decimal('-4.490466115234944639300700718305963268160145918082259E-39')),\n",
       " (36893488147419103232,\n",
       "  Decimal('-4.490466115234944639300700718305963268160145918082259E-39')),\n",
       " (73786976294838206464,\n",
       "  Decimal('6.548630133592199429559400528063053804459363776755545E-40')),\n",
       " (147573952589676412928,\n",
       "  Decimal('-1.294477918820281146150427923985205261212195300944017E-41')),\n",
       " (295147905179352825856,\n",
       "  Decimal('2.005836899573679694104050180344589412025667295745617E-42')),\n",
       " (590295810358705651712,\n",
       "  Decimal('-1.360752207997170137416971010628052642659242447459911E-43')),\n",
       " (1180591620717411303424,\n",
       "  Decimal('-1.360752207997170137416971010628052642659242447459911E-43')),\n",
       " (2361183241434822606848,\n",
       "  Decimal('1.315520920663457719111409290037730062418454414681654E-43')),\n",
       " (4722366482869645213696,\n",
       "  Decimal('6.655376207385949763824653115365424921649241696462142E-45')),\n",
       " (9444732965739290427392,\n",
       "  Decimal('-3.645073777122230917235284176413836993993206032549169E-45')),\n",
       " (18889465931478580854784,\n",
       "  Decimal('-3.808517309310680464721796281674187128027046227903749E-46')),\n",
       " (37778931862957161709568,\n",
       "  Decimal('-3.808517309310680464721796281674187128027046227903749E-46')),\n",
       " (75557863725914323419136,\n",
       "  Decimal('-2.786421081675666780507309375620632444754505693765620E-47')),\n",
       " (151115727451828646838272,\n",
       "  Decimal('2.477087534282259005906906893129813530704329926304469E-48')),\n",
       " (302231454903657293676544,\n",
       "  Decimal('2.477087534282259005906906893129813530704329926304469E-48')),\n",
       " (604462909807314587353088,\n",
       "  Decimal('-2.172783283090555123916801137561566070494443083648715E-48')),\n",
       " (1208925819614629174706176,\n",
       "  Decimal('-4.074366543152520595683424342336367668082166930955693E-50')),\n",
       " (2417851639229258349412352,\n",
       "  Decimal('-4.074366543152520595683424342336367668082166930955693E-50')),\n",
       " (4835703278458516698824704,\n",
       "  Decimal('3.405915782166560185454112536171807347537436418845774E-50'))]"
      ]
     },
     "execution_count": 19,
     "metadata": {},
     "output_type": "execute_result"
    }
   ],
   "source": [
    "# drop the last 7 with questionable precisions\n",
    "data_list = data_list[:-7]\n",
    "data_list"
   ]
  },
  {
   "cell_type": "markdown",
   "metadata": {},
   "source": [
    "### Now, visualize the results by plotting relative error vs max denominator"
   ]
  },
  {
   "cell_type": "code",
   "execution_count": 20,
   "metadata": {},
   "outputs": [],
   "source": [
    "# separate the ones with positive errors from those with negative errors  \n",
    "pos_data_list = [t for t in data_list if t[1].compare(Decimal(0))==Decimal('1')]\n",
    "pos_denom_list = [t[0] for t in pos_data_list]\n",
    "pos_error_list = [t[1] for t in pos_data_list]\n",
    "\n",
    "# for negative errors, multiple by Decimal(-1) so that they show up in log plot\n",
    "neg_data_list = [t for t in data_list if t[1].compare(Decimal(0))==Decimal('-1')]\n",
    "neg_denom_list = [t[0] for t in neg_data_list]\n",
    "neg_error_list = [t[1]*Decimal(-1) for t in neg_data_list]"
   ]
  },
  {
   "cell_type": "code",
   "execution_count": 21,
   "metadata": {},
   "outputs": [
    {
     "data": {
      "image/png": "[encoded data removed]",
      "text/plain": [
       "<Figure size 800x600 with 1 Axes>"
      ]
     },
     "metadata": {},
     "output_type": "display_data"
    }
   ],
   "source": [
    "fig=plt.figure(figsize=(8,6), dpi= 100, facecolor='w', edgecolor='k')\n",
    "plt.scatter(pos_denom_list, pos_error_list, marker='+')\n",
    "plt.scatter(neg_denom_list, neg_error_list, marker='x')\n",
    "ax = plt.gca()\n",
    "ax.set_ylabel('Relative error')\n",
    "ax.set_yscale('log')\n",
    "ax.set_xlabel('Max denominator')\n",
    "ax.set_xscale('log')"
   ]
  },
  {
   "cell_type": "markdown",
   "metadata": {},
   "source": [
    "#### A few fraction approximations are good over a sizable range of max denominator \n",
    "Two notable ones are 22/7 and 355/113. "
   ]
  },
  {
   "cell_type": "markdown",
   "metadata": {},
   "source": [
    "### Let's check out the accuracy of 355/113 and 22/7 \n",
    "BTW, 355/113 is known as Zu's ratio, named after Zu Chongzhi (祖冲之), a Chinese mathematician in the 5th century"
   ]
  },
  {
   "cell_type": "code",
   "execution_count": 22,
   "metadata": {},
   "outputs": [
    {
     "data": {
      "text/plain": [
       "Decimal('8.491367872842437769196965574924013843988360761753236E-8')"
      ]
     },
     "execution_count": 22,
     "metadata": {},
     "output_type": "execute_result"
    }
   ],
   "source": [
    "# In case we need a simple approximation to pi (but don't want to use math.pi or np.pi), we can use 355/113\n",
    "pi_zu = 355/113    \n",
    "rel_pi_error(pi_zu)"
   ]
  },
  {
   "cell_type": "markdown",
   "metadata": {},
   "source": [
    "#### 355/113 works out to have accuracy of 85 ppb, impressive"
   ]
  },
  {
   "cell_type": "code",
   "execution_count": 23,
   "metadata": {},
   "outputs": [
    {
     "data": {
      "text/plain": [
       "Decimal('0.0004024994347706617818428207953813403909165098810256213')"
      ]
     },
     "execution_count": 23,
     "metadata": {},
     "output_type": "execute_result"
    }
   ],
   "source": [
    "rel_pi_error(22/7)"
   ]
  },
  {
   "cell_type": "markdown",
   "metadata": {},
   "source": [
    "#### 22/7 works out to have accuracy of 402 ppm, not bad"
   ]
  },
  {
   "cell_type": "markdown",
   "metadata": {},
   "source": [
    "### Finally, let's look into the continued fraction representation of pi \n",
    "Here is an image of the formula for the simple continued fraction from Wikipedia: "
   ]
  },
  {
   "cell_type": "markdown",
   "metadata": {},
   "source": [
    "![Image of Continued Fraction](https://wikimedia.org/api/rest_v1/media/math/render/svg/e294255007892e9424e6d3f49183cad6b133bbcf)"
   ]
  },
  {
   "cell_type": "markdown",
   "metadata": {},
   "source": [
    "Let's define a recursive function to compute the truncated first 20 terms. "
   ]
  },
  {
   "cell_type": "code",
   "execution_count": 24,
   "metadata": {},
   "outputs": [
    {
     "name": "stdout",
     "output_type": "stream",
     "text": [
      "3\n",
      "22/7\n",
      "333/106\n",
      "355/113\n",
      "103993/33102\n",
      "104348/33215\n",
      "208341/66317\n",
      "312689/99532\n",
      "833719/265381\n",
      "1146408/364913\n",
      "4272943/1360120\n",
      "5419351/1725033\n",
      "80143857/25510582\n",
      "165707065/52746197\n",
      "245850922/78256779\n",
      "411557987/131002976\n",
      "1068966896/340262731\n",
      "2549491779/811528438\n",
      "6167950454/1963319607\n"
     ]
    }
   ],
   "source": [
    "#  The fist 20 terms from https://mathworld.wolfram.com/PiContinuedFraction.html \n",
    "pi_cf_20 = (3, 7, 15, 1, 292, 1, 1, 1, 2, 1, 3, 1, 14, 2, 1, 1, 2, 2, 2, 2)\n",
    "\n",
    "def cont_fract(cf_tuple): \n",
    "    if len(cf_tuple)==1: \n",
    "        return cf_tuple[0]\n",
    "    elif len(cf_tuple)==2: \n",
    "        return cf_tuple[0] + Fraction(1,cf_tuple[1])\n",
    "    elif len(cf_tuple)>2: \n",
    "        x = cf_tuple[-2] + Fraction(1,cf_tuple[-1])\n",
    "        new_cf_list = list(cf_tuple[:-2])\n",
    "        new_cf_list.append(x)\n",
    "        return cont_fract(tuple(new_cf_list))        \n",
    "    else: \n",
    "        print(f'Something is wrong. Unexpected len(cf_tuple): \\t{len(cf_tuple)}')\n",
    "        return null \n",
    "\n",
    "for i in range(1,len(pi_cf_20)): \n",
    "    print(cont_fract(pi_cf_20[:i]))"
   ]
  },
  {
   "cell_type": "markdown",
   "metadata": {},
   "source": [
    "#### Not surprisingly, 22/7 and 355/113 are found here as well. "
   ]
  },
  {
   "cell_type": "markdown",
   "metadata": {},
   "source": [
    "### Wrap up\n",
    "After this brief investigation, here are my answers to the questions I asked earlier: \n",
    "#### What are good fraction approximations of pi? \n",
    "- 355/113, Zu's ratio (accuracy 85 ppb)\n",
    "- 22/7 (accuracy 402 ppm)\n",
    "\n",
    "#### What python features are useful and fun in this investigation? \n",
    "- Decimal \n",
    "- Fraction \n",
    "- int "
   ]
  }
 ],
 "metadata": {
  "kernelspec": {
   "display_name": "Python 3",
   "language": "python",
   "name": "python3"
  },
  "language_info": {
   "codemirror_mode": {
    "name": "ipython",
    "version": 3
   },
   "file_extension": ".py",
   "mimetype": "text/x-python",
   "name": "python",
   "nbconvert_exporter": "python",
   "pygments_lexer": "ipython3",
   "version": "3.9.1"
  }
 },
 "nbformat": 4,
 "nbformat_minor": 4
}
